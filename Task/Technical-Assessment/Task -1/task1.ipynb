{
 "cells": [
  {
   "cell_type": "code",
   "execution_count": 27,
   "metadata": {},
   "outputs": [],
   "source": [
    "def equal_sum(A,B):\n",
    "    size=len(A)\n",
    "    for i in range(size):\n",
    "        c=0\n",
    "        j=i+1\n",
    "        for j in range(size):\n",
    "            k=j+1\n",
    "            for k in range(size):\n",
    "                for l in range(size):\n",
    "                    if(A[i]+A[j]+A[k]==B[l]):\n",
    "                        print([A[i],A[j],A[k]],[B[l]])\n",
    "                        c+=1\n",
    "                        return c\n",
    "                    \n",
    "def addition(A):\n",
    "    size=len(A)\n",
    "    list1=[]\n",
    "    count=0\n",
    "    \n",
    "    for i in range(len(A)):\n",
    "        j=i+1\n",
    "        for j in range(len(A)):\n",
    "            count=A[i]+A[j]\n",
    "            list1.append(count)\n",
    "    return list1\n",
    "            \n",
    "def fun3(A,B,temp):\n",
    "    count1=0\n",
    "    result=[]\n",
    "    \n",
    "    for i in range(len(B)):\n",
    "        j=i+1\n",
    "        for j in range(len(B)):\n",
    "            count1=B[i]+B[j]\n",
    "            if(count1 in temp):\n",
    "                result.extend((B[i],B[j]))\n",
    "                ans=fun4(A,count1,result)\n",
    "                return ans\n",
    "    \n",
    "def fun4(A,summ,result):\n",
    "    count2=0\n",
    "    ans=[]\n",
    "    for i in range(len(A)):\n",
    "        j=i+1\n",
    "        for j in range(len(A)):\n",
    "            count2=A[i]+A[j]\n",
    "            if(count2==summ):\n",
    "                result.extend((A[i],A[j]))\n",
    "                ans=result\n",
    "                return ans"
   ]
  },
  {
   "cell_type": "code",
   "execution_count": 29,
   "metadata": {},
   "outputs": [
    {
     "data": {
      "text/plain": [
       "[2, 19, 10, 11]"
      ]
     },
     "execution_count": 29,
     "metadata": {},
     "output_type": "execute_result"
    }
   ],
   "source": [
    "list1=[10,11,12,13,14] \n",
    "list2=[2,3,19,99,101]\n",
    "value=equal_sum(list1,list2)\n",
    "value\n",
    "if(value!=1):\n",
    "    temp=[]\n",
    "temp=fun2(list1)\n",
    "fun3(list1,list2,temp)"
   ]
  },
  {
   "cell_type": "code",
   "execution_count": 28,
   "metadata": {},
   "outputs": [
    {
     "name": "stdout",
     "output_type": "stream",
     "text": [
      "[1, 2, 6] [9]\n"
     ]
    }
   ],
   "source": [
    "B=[9,10,11,12,13,14]\n",
    "A=[1,2,3,4,5,6] \n",
    "result=fun(A,B)\n",
    "result\n",
    "if(result!=1):\n",
    "    temp=[]\n",
    "temp=addition(A)\n",
    "fun3(A,B,temp)"
   ]
  }
 ],
 "metadata": {
  "kernelspec": {
   "display_name": "Python 3",
   "language": "python",
   "name": "python3"
  },
  "language_info": {
   "codemirror_mode": {
    "name": "ipython",
    "version": 3
   },
   "file_extension": ".py",
   "mimetype": "text/x-python",
   "name": "python",
   "nbconvert_exporter": "python",
   "pygments_lexer": "ipython3",
   "version": "3.7.6"
  }
 },
 "nbformat": 4,
 "nbformat_minor": 5
}
